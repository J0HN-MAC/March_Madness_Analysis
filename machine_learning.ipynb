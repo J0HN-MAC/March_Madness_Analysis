{
 "cells": [
  {
   "cell_type": "code",
   "execution_count": 1,
   "id": "2847e1f8",
   "metadata": {},
   "outputs": [
    {
     "data": {
      "text/html": [
       "<div>\n",
       "<style scoped>\n",
       "    .dataframe tbody tr th:only-of-type {\n",
       "        vertical-align: middle;\n",
       "    }\n",
       "\n",
       "    .dataframe tbody tr th {\n",
       "        vertical-align: top;\n",
       "    }\n",
       "\n",
       "    .dataframe thead th {\n",
       "        text-align: right;\n",
       "    }\n",
       "</style>\n",
       "<table border=\"1\" class=\"dataframe\">\n",
       "  <thead>\n",
       "    <tr style=\"text-align: right;\">\n",
       "      <th></th>\n",
       "      <th>team</th>\n",
       "      <th>kp_adj_eff</th>\n",
       "      <th>kp_adj_off</th>\n",
       "      <th>kp_adj_def</th>\n",
       "      <th>seed</th>\n",
       "      <th>school</th>\n",
       "      <th>year</th>\n",
       "      <th>tournament_wins</th>\n",
       "    </tr>\n",
       "  </thead>\n",
       "  <tbody>\n",
       "    <tr>\n",
       "      <th>0</th>\n",
       "      <td>2022 Kansas</td>\n",
       "      <td>25.5</td>\n",
       "      <td>119.4</td>\n",
       "      <td>93.9</td>\n",
       "      <td>1</td>\n",
       "      <td>Kansas</td>\n",
       "      <td>2022</td>\n",
       "      <td>6</td>\n",
       "    </tr>\n",
       "    <tr>\n",
       "      <th>1</th>\n",
       "      <td>2022 Arizona</td>\n",
       "      <td>27.2</td>\n",
       "      <td>119.6</td>\n",
       "      <td>92.4</td>\n",
       "      <td>1</td>\n",
       "      <td>Arizona</td>\n",
       "      <td>2022</td>\n",
       "      <td>2</td>\n",
       "    </tr>\n",
       "    <tr>\n",
       "      <th>2</th>\n",
       "      <td>2022 Gonzaga</td>\n",
       "      <td>33.0</td>\n",
       "      <td>121.8</td>\n",
       "      <td>88.8</td>\n",
       "      <td>1</td>\n",
       "      <td>Gonzaga</td>\n",
       "      <td>2022</td>\n",
       "      <td>2</td>\n",
       "    </tr>\n",
       "    <tr>\n",
       "      <th>3</th>\n",
       "      <td>2022 Baylor</td>\n",
       "      <td>26.3</td>\n",
       "      <td>117.9</td>\n",
       "      <td>91.6</td>\n",
       "      <td>1</td>\n",
       "      <td>Baylor</td>\n",
       "      <td>2022</td>\n",
       "      <td>1</td>\n",
       "    </tr>\n",
       "    <tr>\n",
       "      <th>4</th>\n",
       "      <td>2022 Duke</td>\n",
       "      <td>23.7</td>\n",
       "      <td>119.4</td>\n",
       "      <td>95.7</td>\n",
       "      <td>2</td>\n",
       "      <td>Duke</td>\n",
       "      <td>2022</td>\n",
       "      <td>4</td>\n",
       "    </tr>\n",
       "  </tbody>\n",
       "</table>\n",
       "</div>"
      ],
      "text/plain": [
       "           team  kp_adj_eff  kp_adj_off  kp_adj_def  seed   school  year  \\\n",
       "0   2022 Kansas        25.5       119.4        93.9     1   Kansas  2022   \n",
       "1  2022 Arizona        27.2       119.6        92.4     1  Arizona  2022   \n",
       "2  2022 Gonzaga        33.0       121.8        88.8     1  Gonzaga  2022   \n",
       "3   2022 Baylor        26.3       117.9        91.6     1   Baylor  2022   \n",
       "4     2022 Duke        23.7       119.4        95.7     2     Duke  2022   \n",
       "\n",
       "   tournament_wins  \n",
       "0                6  \n",
       "1                2  \n",
       "2                2  \n",
       "3                1  \n",
       "4                4  "
      ]
     },
     "execution_count": 1,
     "metadata": {},
     "output_type": "execute_result"
    }
   ],
   "source": [
    "# Import our dependencies\n",
    "from sklearn.model_selection import train_test_split\n",
    "from sklearn.preprocessing import StandardScaler\n",
    "from sklearn.linear_model import LogisticRegression\n",
    "from sklearn.metrics import accuracy_score\n",
    "import pandas as pd\n",
    "import tensorflow as tf\n",
    "\n",
    "# Import our input dataset\n",
    "team_df = pd.read_csv('Resources/clean_team_data.csv')\n",
    "team_df.head()"
   ]
  },
  {
   "cell_type": "code",
   "execution_count": null,
   "id": "811c47e0",
   "metadata": {},
   "outputs": [],
   "source": []
  },
  {
   "cell_type": "code",
   "execution_count": null,
   "id": "3bff9303",
   "metadata": {},
   "outputs": [],
   "source": []
  },
  {
   "cell_type": "code",
   "execution_count": null,
   "id": "422d43d4",
   "metadata": {},
   "outputs": [],
   "source": []
  },
  {
   "cell_type": "code",
   "execution_count": null,
   "id": "055f2421",
   "metadata": {},
   "outputs": [],
   "source": []
  },
  {
   "cell_type": "code",
   "execution_count": null,
   "id": "8f967be2",
   "metadata": {},
   "outputs": [],
   "source": []
  },
  {
   "cell_type": "code",
   "execution_count": null,
   "id": "9f5a10b2",
   "metadata": {},
   "outputs": [],
   "source": []
  },
  {
   "cell_type": "code",
   "execution_count": null,
   "id": "2ed0ba0c",
   "metadata": {},
   "outputs": [],
   "source": []
  },
  {
   "cell_type": "code",
   "execution_count": null,
   "id": "4e620998",
   "metadata": {},
   "outputs": [],
   "source": []
  },
  {
   "cell_type": "code",
   "execution_count": null,
   "id": "cedc3c1a",
   "metadata": {},
   "outputs": [],
   "source": []
  },
  {
   "cell_type": "code",
   "execution_count": null,
   "id": "612a39ce",
   "metadata": {},
   "outputs": [],
   "source": []
  },
  {
   "cell_type": "code",
   "execution_count": null,
   "id": "e222fd87",
   "metadata": {},
   "outputs": [],
   "source": []
  }
 ],
 "metadata": {
  "kernelspec": {
   "display_name": "mlenv",
   "language": "python",
   "name": "mlenv"
  },
  "language_info": {
   "codemirror_mode": {
    "name": "ipython",
    "version": 3
   },
   "file_extension": ".py",
   "mimetype": "text/x-python",
   "name": "python",
   "nbconvert_exporter": "python",
   "pygments_lexer": "ipython3",
   "version": "3.7.13"
  }
 },
 "nbformat": 4,
 "nbformat_minor": 5
}
